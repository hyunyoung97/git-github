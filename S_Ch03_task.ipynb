{
  "cells": [
    {
      "cell_type": "markdown",
      "metadata": {
        "id": "dXtHy2aVUJyz"
      },
      "source": [
        "<span style=\"font-size:100%\">\n",
        "\n",
        "수업은 모두 열심히 들으셨나요?\n",
        "\n",
        "간혹 강의에서 언급되지 않은 내용이 문제로 나올 수 있습니다.<br>\n",
        "그럴땐 강의 내용 외 문제는 구글링을 통해 해결해주세요<br></span>\n",
        "<span style=\"font-size:80%\">\n",
        "(구글링 또한 개발자가 갖쳐야할 역량 중에 하나랍니다 😊)\n",
        "</span>\n",
        "\n",
        "---"
      ]
    },
    {
      "cell_type": "markdown",
      "metadata": {
        "id": "X2r2O8pyUJyz"
      },
      "source": [
        "<span style=\"font-size:80%\">[문제1]<br><br></span>\n",
        "```주로 작성 중인 코드의 끝을 알리는 기호로 사용되며 파이썬에서 한 줄에 작성된 서로 다른 코드를 구분 지을 때 사용할 수 있는 기호를 골라주세요```\n",
        "\n",
        "1. ' , ' (쉼표)\n",
        "2. ' + ' (더하기 기호)\n",
        "3. ' ; ' (세미콜론)\n",
        "4. ' / ' (슬래시)"
      ]
    },
    {
      "cell_type": "markdown",
      "metadata": {
        "id": "m1ZVztISUJy0"
      },
      "source": [
        "<span style=\"color:red\">답변</span> :"
      ]
    },
    {
      "cell_type": "markdown",
      "metadata": {
        "id": "Jc-c3I_7UJy0"
      },
      "source": [
        ";(세미콜론)"
      ]
    },
    {
      "cell_type": "markdown",
      "metadata": {
        "id": "AfGXxKhnUJy0"
      },
      "source": [
        "----"
      ]
    },
    {
      "cell_type": "markdown",
      "metadata": {
        "id": "w0EVLHCAUJy0"
      },
      "source": [
        "<span style=\"font-size:80%\">[문제2]<br><br></span>\n",
        "```Python의 PEP 8은 무엇인지 설명하고 PEP 8의 핵심적인 규칙을 1개 이상을 설명해주세요```"
      ]
    },
    {
      "cell_type": "markdown",
      "metadata": {
        "id": "WRO946xsUJy0"
      },
      "source": [
        "<span style=\"color:red\">답변</span>"
      ]
    },
    {
      "cell_type": "markdown",
      "metadata": {
        "id": "CwxVjZ3MUJy0"
      },
      "source": [
        "PEP 8은 파이썬 프로그래밍 언어의 코딩 스타일 가이드라인을 정의한 문서로 파이썬 코드를 작성할 때 따라야 할 규칙과 권장 사항을 제시합니다.\n",
        "\n",
        "변수명과 함수명은 소문자로 작성하고, 단어 사이는 밑줄로 구분합니다.\n",
        "\n",
        "들여쓰기는 공백 4칸을 사용합니다.\n",
        "\n",
        "한 줄은 최대 79자까지만 작성합니다. 작은 화면에서도 읽기 쉽게 하기 위해서입니다.\n",
        "\n",
        "함수와 클래스, 함수 내의 큰 코드 블록 사이에는 빈 줄을 두 개 사용하여 구분합니다."
      ]
    },
    {
      "cell_type": "markdown",
      "metadata": {
        "id": "Op4Dri7HUJy0"
      },
      "source": [
        "----"
      ]
    },
    {
      "cell_type": "markdown",
      "metadata": {
        "id": "-4MdQvQyUJy0"
      },
      "source": [
        "<span style=\"font-size:80%\">[문제3]<br><br></span>\n",
        "```Python에서 \"#\"이 의마하는 것은 무엇인지 설명해주세요```"
      ]
    },
    {
      "cell_type": "markdown",
      "metadata": {
        "id": "nTqY9dJ7UJy0"
      },
      "source": [
        "<span style=\"color:red\">답변</span>"
      ]
    },
    {
      "cell_type": "markdown",
      "metadata": {
        "id": "VRRC36RhUJy0"
      },
      "source": [
        "주석입니다. 주석은 코드를 이해하고 관리하는데 필요한 설명이나 메모를 추가하는 용도로 사용됩니다."
      ]
    },
    {
      "cell_type": "markdown",
      "metadata": {
        "id": "gbvnwDOUUJy0"
      },
      "source": [
        "----"
      ]
    },
    {
      "cell_type": "markdown",
      "metadata": {
        "id": "coMnE60aUJy0"
      },
      "source": [
        "<span style=\"font-size:80%\">[문제4]<br><br></span>\n",
        "```Python의 들여쓰기 장점과 기능에 대해 설명해주세요```"
      ]
    },
    {
      "cell_type": "markdown",
      "metadata": {
        "id": "T4mxDiRgUJy0"
      },
      "source": [
        "<span style=\"color:red\">답변</span>"
      ]
    },
    {
      "cell_type": "markdown",
      "metadata": {
        "id": "SpI7D3L_UJy0"
      },
      "source": [
        "들여쓰기(indentation)는 코드를 읽기 쉽고 간결하게 작성할 수 있도록 설계되었습니다.\n",
        "\n",
        "다른 언어에서는 보통 중괄호({})나 세미콜론(;)으로 코드 블록을 구분하지만 파이썬은 들여쓰기를 통해 이를 구현합니다.\n",
        "\n",
        "1. 코드 블록 구분\n",
        "\n",
        "    조건문, 반복문, 함수 정의 등에서 들여쓰기를 사용해 코드 블록을 명확히 구분합니다.\n",
        "2. 가독성 향상\n",
        "\n",
        "    코드의 계층 구조를 직관적으로 표현해 코드 이해가 쉽습니다.\n",
        "3. 불필요한 기호 제거\n",
        "\n",
        "    중괄호나 세미콜론 없이도 구조를 명확히 표현 가능합니다."
      ]
    },
    {
      "cell_type": "markdown",
      "metadata": {
        "id": "XQFUIBA6UJy0"
      },
      "source": [
        "----"
      ]
    },
    {
      "cell_type": "markdown",
      "metadata": {
        "id": "iCssfKd3UJy0"
      },
      "source": [
        "<span style=\"font-size:80%\">[문제5]<br><br></span>\n",
        "```print( )문의 기능 및 특징에 대해 설명해주세요```"
      ]
    },
    {
      "cell_type": "markdown",
      "metadata": {
        "id": "7L33EovpUJy0"
      },
      "source": [
        "<span style=\"color:red\">답변</span>"
      ]
    },
    {
      "cell_type": "code",
      "execution_count": null,
      "metadata": {
        "vscode": {
          "languageId": "plaintext"
        },
        "id": "ChWg2Y2HUJy1"
      },
      "outputs": [],
      "source": [
        "print() 함수는 콘솔에 메시지나 데이터를 출력하는 데 사용되는 가장 기본적이고 중요한 함수 중 하나입니다.\n",
        "1. 여러 값 출력 여러 값을 쉼표(,)로 구분하면 자동으로 공백이 삽입되어 출력됩니다.\n",
        "2. 문자열 연결 문자열을 직접 연결하려면 +를 사용하거나 f-string을 활용합니다.\n",
        "3. 기본 구분자(sep) 설정 sep 매개변수를 사용해 값들 사이의 구분자를 변경할 수 있습니다."
      ]
    },
    {
      "cell_type": "markdown",
      "metadata": {
        "id": "98Vssu7IUJy1"
      },
      "source": []
    }
  ],
  "metadata": {
    "language_info": {
      "name": "python"
    },
    "colab": {
      "provenance": []
    }
  },
  "nbformat": 4,
  "nbformat_minor": 0
}