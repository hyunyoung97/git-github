{
  "cells": [
    {
      "cell_type": "markdown",
      "metadata": {
        "id": "8t-uQ9_nVDfV"
      },
      "source": [
        "<span style=\"font-size:100%\">\n",
        "\n",
        "수업은 모두 열심히 들으셨나요?\n",
        "\n",
        "간혹 강의에서 언급되지 않은 내용이 문제로 나올 수 있습니다.<br>\n",
        "그럴땐 강의 내용 외 문제는 구글링을 통해 해결해주세요<br></span>\n",
        "<span style=\"font-size:80%\">\n",
        "(구글링 또한 개발자가 갖쳐야할 역량 중에 하나랍니다 😊)\n",
        "</span>\n",
        "\n",
        "---"
      ]
    },
    {
      "cell_type": "markdown",
      "metadata": {
        "id": "6OnoWn8jVDfW"
      },
      "source": [
        "<span style=\"font-size:80%\">[문제1]<br><br></span>\n",
        "```인터프리트 방식에 대해 설명하고 2개 이상의 장점을 설명해주세요```"
      ]
    },
    {
      "cell_type": "markdown",
      "metadata": {
        "id": "SqCOH1epVDfW"
      },
      "source": [
        "<span style=\"color:red\">답변</span>"
      ]
    },
    {
      "cell_type": "markdown",
      "metadata": {
        "id": "MFEDjkhyVDfW"
      },
      "source": [
        "인터프리트 방식은 프로그램을 한줄 씩 번역하면서 즉시 실행하는 방식입니다.\n",
        "\n",
        "한줄 씩 번역해서 번역 속도가 빠르고, 바로 읽어내기 때문에 프로그램의 이식성이 좋습니다."
      ]
    },
    {
      "cell_type": "markdown",
      "metadata": {
        "id": "67eyynRKVDfW"
      },
      "source": [
        "---"
      ]
    },
    {
      "cell_type": "markdown",
      "metadata": {
        "id": "XVojCsVcVDfW"
      },
      "source": [
        "<span style=\"font-size:80%\">[문제2]<br><br></span>\n",
        "```동적 타입 방식의 장점과 단점을 간략히 설명해주세요```"
      ]
    },
    {
      "cell_type": "markdown",
      "metadata": {
        "id": "iuTnmFsqVDfW"
      },
      "source": [
        "<span style=\"color:red\">답변</span>"
      ]
    },
    {
      "cell_type": "markdown",
      "metadata": {
        "id": "eIANIFDpVDfW"
      },
      "source": [
        "코드 작성 시 타입(용도)에 제한이 없기 때문에 유연성이 높고 효율적이나\n",
        "\n",
        "프로그램 실행 때 타입의 문제를 확인할 수 있기 때문에 코드가 길고 복잡할 경우 문제 해결이 쉽지 않습니다."
      ]
    },
    {
      "cell_type": "markdown",
      "metadata": {
        "id": "8ZEHTGg_VDfW"
      },
      "source": [
        "---"
      ]
    },
    {
      "cell_type": "markdown",
      "metadata": {
        "id": "UPf5Lx6nVDfW"
      },
      "source": [
        "<span style=\"font-size:80%\">[문제3]<br><br></span>\n",
        "```Python으로 정적타입 방식의 코드를 작성할 수 있는 방법을 구글링을 통해 검색 후 설명해주세요```"
      ]
    },
    {
      "cell_type": "markdown",
      "metadata": {
        "id": "qb0a0sj0VDfW"
      },
      "source": [
        "<span style=\"color:red\">답변</span>"
      ]
    },
    {
      "cell_type": "markdown",
      "metadata": {
        "id": "Py3x9akKVDfW"
      },
      "source": [
        "타입 힌트를 사용하고 정적 분석 도구를 활용할 수 있습니다.\n",
        "\n",
        "타입 힌트의 경우 파이썬 코드에 정적 타입을 선택적으로 제공하는 기능으로\n",
        "\n",
        "타입 힌트를 추가하면 IDE에서 코딩할 때 잘못된 타입을 사용할 경우 경고 표시가 뜨게 됩니다.\n",
        "\n",
        "기본 타입뿐만 아니라 리스트, 딕셔너리 등의 컬렉션 타입에도 적용할 수 있습니다.\n",
        "\n",
        "정적 분석 도구의 경우 코드를 실행하지 않고도 코드 내의 오류를 찾아내는 도구로\n",
        "\n",
        "타입 힌트를 기반으로 더 정확한 분석이 가능합니다.\n",
        "\n",
        "또한 typing 모듈에서 복합 데이터 타입을 임포트한 후 대괄호()로 감싸서 넘기는 방법도 있습니다."
      ]
    },
    {
      "cell_type": "markdown",
      "metadata": {
        "id": "J8LBKEYrVDfW"
      },
      "source": [
        "---"
      ]
    },
    {
      "cell_type": "markdown",
      "metadata": {
        "id": "FdqAhwj-VDfW"
      },
      "source": [
        "<span style=\"font-size:80%\">[문제4]<br><br></span>\n",
        "```프로세스와 스레드의 차이점을 설명해주세요```"
      ]
    },
    {
      "cell_type": "markdown",
      "metadata": {
        "id": "iyhN4PmwVDfW"
      },
      "source": [
        "<span style=\"color:red\">답변</span>"
      ]
    },
    {
      "cell_type": "markdown",
      "metadata": {
        "id": "-yQpF9UVVDfW"
      },
      "source": [
        "프로세스는 메모리 상에서 실행중인 프로그램을 말하며 스레드는 이 프로세스 안에서 실행되는 흐름 단위를 말합니다.\n",
        "\n",
        "프로세스는 자신만의 고유 공간과 자원을 할당받아 사용하고 스레드는 다른 스레드와 공간과 자원을 공유하면서 사용한다는 차이가 있습니다."
      ]
    },
    {
      "cell_type": "markdown",
      "metadata": {
        "id": "5rgnRWqHVDfW"
      },
      "source": [
        "---"
      ]
    },
    {
      "cell_type": "markdown",
      "metadata": {
        "id": "abKG0pKZVDfW"
      },
      "source": [
        "<span style=\"font-size:80%\">[문제5]<br><br></span>\n",
        "```Python 2버전대와 3버전대의 차이를 성명해주세요```"
      ]
    },
    {
      "cell_type": "markdown",
      "metadata": {
        "id": "lJsXj8VxVDfX"
      },
      "source": [
        "<span style=\"color:red\">답변</span>"
      ]
    },
    {
      "cell_type": "markdown",
      "metadata": {
        "id": "8NrWSWVPVDfX"
      },
      "source": [
        "1. 문자열 처리의 차이가 있습니다.\n",
        "\n",
        "    파이썬 2는 ASCII를 기본 문자열 타입으로 사용하고, 유니코드 문자열은 u\"문자열\" 형식으로 사용합니다.\n",
        "\n",
        "    파이썬 3는 모든 문자열이 기본적으로 유니코드로 처리됩니다.\n",
        "\n",
        "2. print 구문의 차이가 있습니다.\n",
        "\n",
        "    파이썬 2는 print가 함수가 아닌 문법으로 사용되며 괄호 생략 가능합니다.\n",
        "\n",
        "    파이썬 3는 print가 함수로 변경되었으며 반드시 괄호를 사용해야 합니다.\n",
        "3. 정수 나눗셈의 차이가 있습니다.\n",
        "    파이썬 2는 / 연산자가 정수끼리 나눌 경우 정수 나눗셈을 수행해야하며 실수 나눗셈을 원하면 한쪽을 실수로 변환해야 합니다.\n",
        "    파이썬 3는 / 연산자가 항상 실수 나눗셈을 수행해야하며 정수 나눗셈은 // 연산자를 사용합니다.\n",
        "\n",
        "이밖에도 여러가지 차이점이 있습니다."
      ]
    },
    {
      "cell_type": "markdown",
      "metadata": {
        "id": "UgRwOaiUVDfX"
      },
      "source": [
        "---"
      ]
    },
    {
      "cell_type": "markdown",
      "metadata": {
        "id": "7HXxOSTqVDfX"
      },
      "source": [
        "<span style=\"font-size:80%\">[문제6]<br><br></span>\n",
        "```Python에서 메모리 관리는 어떻게 이루어지는지 설명해주세요```"
      ]
    },
    {
      "cell_type": "markdown",
      "metadata": {
        "id": "EhSlKLvnVDfX"
      },
      "source": [
        "<span style=\"color:red\">답변</span>"
      ]
    },
    {
      "cell_type": "markdown",
      "metadata": {
        "id": "Ca0CyLGBVDfX"
      },
      "source": [
        "먼저 파이썬은 자동으로 메모리를 관리하는 고급 프로그래밍 언어입니다.\n",
        "\n",
        "이것은 개발자가 직접 메모리 할당 및 해제를 관리하지 않고도 메모리 관리를 자동으로 처리할 수 있다는 것을 의미합니다.\n",
        "\n",
        "파이썬에서 메모리 관리는 참조 계수 referencecounting 기반으로 이루어집니다.\n",
        "\n",
        "이는 객체가 생성될 때마다 그 객체를 참조하는 변수의 개수를 추적하는 방식입니다.\n",
        "\n",
        "객체를 참조하는 변수의 개수가 0이되면, 해당 객체의 메모리는 자동으로 해제됩니다."
      ]
    }
  ],
  "metadata": {
    "language_info": {
      "name": "python"
    },
    "colab": {
      "provenance": []
    }
  },
  "nbformat": 4,
  "nbformat_minor": 0
}